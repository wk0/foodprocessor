{
 "cells": [
  {
   "cell_type": "code",
   "execution_count": 1,
   "metadata": {},
   "outputs": [],
   "source": [
    "# Typically would use pandas for something like this, but since the dataset is small, sticking to vanilla python"
   ]
  },
  {
   "cell_type": "code",
   "execution_count": 14,
   "metadata": {},
   "outputs": [],
   "source": [
    "import csv\n",
    "from dataclasses import dataclass\n",
    "from datetime import datetime\n",
    "import os \n",
    "import pprint\n",
    "pp = pprint.PrettyPrinter(indent=4)\n",
    "\n",
    "datafolder = 'data-dev/'\n",
    "# datafolder = 'data-prod/'"
   ]
  },
  {
   "cell_type": "code",
   "execution_count": 15,
   "metadata": {},
   "outputs": [],
   "source": [
    "filename = datafolder + 'ingredients v1.csv'"
   ]
  },
  {
   "cell_type": "code",
   "execution_count": 16,
   "metadata": {
    "tags": []
   },
   "outputs": [
    {
     "output_type": "stream",
     "name": "stdout",
     "text": [
      "dict_keys(['id', 'asins', 'brand', 'categories', 'dateAdded', 'dateUpdated', 'ean', 'features.key', 'features.value', 'manufacturer', 'manufacturerNumber', 'name', 'sizes', 'upc', 'weight', ''])\n{   '': '',\n    'asins': 'B008VT0W8C,B0092F8OJ8',\n    'brand': 'McCormick',\n    'categories': 'Grocery & Gourmet Food,Food,Grocery',\n    'dateAdded': '2016-02-05T21:08:01Z',\n    'dateUpdated': '2017-04-12T13:54:04Z',\n    'ean': '52100018164',\n    'features.key': 'Ingredients',\n    'features.value': 'Salt,Sugar,Molasses (Refinery Syrup, Molasses, Caramel '\n                      'Color),Spices (Including Black Pepper),Garlic '\n                      'Onion,Tapioca Maltodextrin,Bacon Fat and Cooked Bacon '\n                      '(Cured with Water, Salt, Sodium Erythorbate, Sodium '\n                      'Nitrate),Silicon Dioxide (To Make Free '\n                      'Flowing),Autolyzed Yeast,Sunflower Oil,Corn '\n                      'Maltodextrin,Vinegar,Extractives of Paprika,and Natural '\n                      'Flavor (Including Smoke)',\n    'id': 'AVpfNFy1LJeJML434ma2',\n    'manufacturer': 'McCormick & Co, Inc',\n    'manufacturerNumber': 'MCLANE500373852',\n    'name': 'McCORMICK GRILL MATES MOLASSES BACON SEASONING 1 x 77g JAR '\n            'AMERICAN IMPORT',\n    'sizes': '',\n    'upc': '52100018164',\n    'weight': '3.5 ounces'}\n"
     ]
    }
   ],
   "source": [
    "raw_food_data = []\n",
    "with open(filename, newline='', encoding='utf-8-sig') as csvfile:\n",
    "    file_reader = csv.DictReader(csvfile, delimiter=',')\n",
    "    headers = next(file_reader)\n",
    "    for row in file_reader:\n",
    "        raw_food_data.append(row)\n",
    "    \n",
    "pp.pprint(raw_food_data[0].keys())\n",
    "pp.pprint(raw_food_data[0])"
   ]
  },
  {
   "cell_type": "code",
   "execution_count": 17,
   "metadata": {
    "tags": []
   },
   "outputs": [
    {
     "output_type": "stream",
     "name": "stdout",
     "text": [
      "raw_food_data Number of Entries: \t 9999\npruned_food_data Number of Entries: \t 6265\n"
     ]
    }
   ],
   "source": [
    "# For brevity, just discarding any that don't match this simple validator\n",
    "pruned_food_data = []\n",
    "print('raw_food_data Number of Entries:','\\t', len(raw_food_data) )\n",
    "\n",
    "def has_present_data(item: dict) -> bool:\n",
    "    if item['name'] == '': return False\n",
    "    if item['brand'] == '': return False\n",
    "    if item['features.key'] != 'Ingredients': return False\n",
    "    if item['features.value'] == '': return False\n",
    "    if item['features.value'] == 'FALSE': return False\n",
    "    if item['manufacturer'] == '': return False\n",
    "    if item['upc'] == '': return False\n",
    "    return True\n",
    "\n",
    "pruned_food_data = [ item for item in raw_food_data if has_present_data(item)]\n",
    "\n",
    "print('pruned_food_data Number of Entries:', '\\t', len(pruned_food_data))"
   ]
  },
  {
   "cell_type": "code",
   "execution_count": 18,
   "metadata": {},
   "outputs": [
    {
     "output_type": "stream",
     "name": "stdout",
     "text": [
      "Raw Text:\n\nSalt,Sugar,Molasses (Refinery Syrup, Molasses, Caramel Color),Spices (Including Black Pepper),Garlic Onion,Tapioca Maltodextrin,Bacon Fat and Cooked Bacon (Cured with Water, Salt, Sodium Erythorbate, Sodium Nitrate),Silicon Dioxide (To Make Free Flowing),Autolyzed Yeast,Sunflower Oil,Corn Maltodextrin,Vinegar,Extractives of Paprika,and Natural Flavor (Including Smoke)\n\n\nSplit on Comma, Excluding Parens\n['Salt', 'Sugar', 'Molasses (Refinery Syrup, Molasses, Caramel Color)', 'Spices (Including Black Pepper)', 'Garlic Onion', 'Tapioca Maltodextrin', 'Bacon Fat and Cooked Bacon (Cured with Water, Salt, Sodium Erythorbate, Sodium Nitrate)', 'Silicon Dioxide (To Make Free Flowing)', 'Autolyzed Yeast', 'Sunflower Oil', 'Corn Maltodextrin', 'Vinegar', 'Extractives of Paprika', 'and Natural Flavor (Including Smoke)']\n\n\nData in Parens\n['Refinery Syrup, Molasses, Caramel Color', 'Including Black Pepper', 'Cured with Water, Salt, Sodium Erythorbate, Sodium Nitrate', 'To Make Free Flowing', 'Including Smoke']\n"
     ]
    }
   ],
   "source": [
    "import re\n",
    "\n",
    "def data_in_parens(ingredients):\n",
    "    return re.findall(r'[(](.*?)[)]', ingredients)\n",
    "    \n",
    "def split_on_comma_if_not_in_parens(ingredients):\n",
    "    return [i.strip() for i in re.split(r',(?![^\\(]*[\\)])', ingredients)]\n",
    "\n",
    "def print_sample(item):\n",
    "    ingredients = item['features.value']\n",
    "    print('Raw Text:')\n",
    "    print('')\n",
    "    print(ingredients)\n",
    "    print('')\n",
    "    print('')\n",
    "    print('Split on Comma, Excluding Parens')\n",
    "    print(split_on_comma_if_not_in_parens(ingredients))\n",
    "    print('')\n",
    "    print('')\n",
    "    print('Data in Parens')\n",
    "    print(data_in_parens(ingredients))\n",
    "\n",
    "print_sample(pruned_food_data[0])"
   ]
  },
  {
   "cell_type": "code",
   "execution_count": 19,
   "metadata": {},
   "outputs": [
    {
     "output_type": "stream",
     "name": "stdout",
     "text": [
      "Raw Text:\n\nSalt, Yellow 5 Lake, Tricalcium Phosphate And Artificial Butter Flavor\n\n\nSplit on Comma, Excluding Parens\n['Salt', 'Yellow 5 Lake', 'Tricalcium Phosphate And Artificial Butter Flavor']\n\n\nData in Parens\n[]\n"
     ]
    }
   ],
   "source": [
    "print_sample(pruned_food_data[1])"
   ]
  },
  {
   "cell_type": "code",
   "execution_count": 20,
   "metadata": {},
   "outputs": [
    {
     "output_type": "stream",
     "name": "stdout",
     "text": [
      "Raw Text:\n\nMechanically hulled seasame seeds.Allergy Information: Packed in a facility that processes wheat, flour, peanuts and tree nuts.,Mechanically hulled seasame seeds.Allergy Information: Packed in a facility that processes wheat,flour,peanuts and tree nuts.\n\n\nSplit on Comma, Excluding Parens\n['Mechanically hulled seasame seeds.Allergy Information: Packed in a facility that processes wheat', 'flour', 'peanuts and tree nuts.', 'Mechanically hulled seasame seeds.Allergy Information: Packed in a facility that processes wheat', 'flour', 'peanuts and tree nuts.']\n\n\nData in Parens\n[]\n"
     ]
    }
   ],
   "source": [
    "print_sample(pruned_food_data[2])"
   ]
  },
  {
   "cell_type": "code",
   "execution_count": 21,
   "metadata": {},
   "outputs": [],
   "source": [
    "# Splitting on Comma, Excluding Parens seems to be the best 'quick and dirty' approach, \n",
    "# can be later cleaned via the web interface"
   ]
  },
  {
   "cell_type": "code",
   "execution_count": 22,
   "metadata": {},
   "outputs": [],
   "source": [
    "# UPC has some formatting issues, so remove commas\n",
    "#\n",
    "# https://en.wikipedia.org/wiki/Universal_Product_Code\n",
    "#   according to this article, upc code should be 12 digits\n",
    "# \n",
    "\n",
    "columns = ['name', 'brand', 'upc', 'ingredients']\n",
    "write_to_csv = []\n",
    "for food in pruned_food_data:\n",
    "    food_data = {\n",
    "        \"name\": food['name'],\n",
    "        \"brand\": food['brand'],\n",
    "        \"upc\": int(float(food['upc'].replace(',',''))), # parse exponent notation since upc is an int\n",
    "        \"ingredients\": ','.join(split_on_comma_if_not_in_parens(food['features.value']))\n",
    "    }\n",
    "    write_to_csv.append(food_data)"
   ]
  },
  {
   "cell_type": "code",
   "execution_count": 23,
   "metadata": {},
   "outputs": [],
   "source": [
    "# Save to a new csv\n",
    "filename = datafolder + 'ingredients v2.csv'\n",
    "try:\n",
    "    with open(filename, 'w') as csvfile:\n",
    "        writer = csv.DictWriter(csvfile, fieldnames=columns)\n",
    "        writer.writeheader()\n",
    "        for data in write_to_csv:\n",
    "            writer.writerow(data)\n",
    "except IOError:\n",
    "    print(\"I/O error\")"
   ]
  }
 ],
 "metadata": {
  "interpreter": {
   "hash": "d3c309a0e653b91dee0b493a1f674df9eada187b60299d78aa178d7f39ed0528"
  },
  "kernelspec": {
   "name": "python3",
   "display_name": "Python 3.8.10 64-bit ('data_processing-dfp8UxSO': pipenv)"
  },
  "language_info": {
   "codemirror_mode": {
    "name": "ipython",
    "version": 3
   },
   "file_extension": ".py",
   "mimetype": "text/x-python",
   "name": "python",
   "nbconvert_exporter": "python",
   "pygments_lexer": "ipython3",
   "version": "3.8.10"
  }
 },
 "nbformat": 4,
 "nbformat_minor": 2
}